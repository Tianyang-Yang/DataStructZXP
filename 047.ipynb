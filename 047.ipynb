{
 "cells": [
  {
   "cell_type": "markdown",
   "metadata": {},
   "source": [
    "# Evaluating Infix Expression \n",
    "The following is a function that evaluates an infix expression:"
   ]
  },
  {
   "cell_type": "code",
   "execution_count": null,
   "metadata": {
    "collapsed": false
   },
   "outputs": [],
   "source": [
    "class Stack:\n",
    "    def __init__(self):\n",
    "        self.items = []\n",
    "    def isEmpty(self):\n",
    "        return self.items is []\n",
    "    def push(self,item):\n",
    "        self.items.append(item)\n",
    "    def pop(self):\n",
    "        return self.items.pop()\n",
    "    def peek(self):\n",
    "        return self.items[len(self.items)-1]\n",
    "    def size(self):\n",
    "        return len(self.items)\n",
    "\n",
    "             \n",
    "\n",
    "def inevaluate(arg):\n",
    "    # an interior function\n",
    "    def ineval_withoutparen(arg):\n",
    "        prec = {}\n",
    "        prec['*'],prec['/'] = 3,3\n",
    "        prec['+'],prec['-'] = 2,2\n",
    "        prec['('] = 1\n",
    "        numstack = Stack() # this is the operand stack \n",
    "        opestack = Stack() # this is the operator and parentheses stack\n",
    "        operator = ['+','-','*','/' ]\n",
    "        temp1, temp2 = 0, 0\n",
    "        for s in arg:\n",
    "            if s not in operator:\n",
    "                numstack.push(s)\n",
    "            elif s in operator:\n",
    "                if opestack.isEmpty():\n",
    "                    opestack.push(s)\n",
    "                elif prec[opestack.peek()]>prec[s] :\n",
    "                    opestack.push(s)\n",
    "                else:\n",
    "                    while prec(opestack.peep)<= prec[s]:\n",
    "                        temp2 = numstack.pop()\n",
    "                        temp1 = numstack.pop()\n",
    "                        token = opestack.pop()\n",
    "                        numstack.push(doMath(token,temp2,temp1))\n",
    "                    \n",
    "        return numstack.peep()\n",
    "    \n",
    "    numstack = Stack() # this is the operand stack \n",
    "    opestack = Stack() # this is the operator and parentheses stack\n",
    "    prec = { }\n",
    "    prec[\"*\"],prec[\"/\"] = 3,3\n",
    "    prec[\"+\"],prec[\"-\"] = 2,2\n",
    "    prec[\"(\"] = 1\n",
    "    operator = ['+','-','*','/' ]\n",
    "    paren= ['(',')']\n",
    "    temp1, temp2 = 0, 0\n",
    "    parennum = 0\n",
    "    \n",
    "    for i,s in enumerate(arg):\n",
    "        if (s not in operator ) and (s not in paren):\n",
    "            numstack.push(s)\n",
    "        elif s is '(':\n",
    "            opestack.push(s)\n",
    "            parennum =parennum +1\n",
    "        elif s in operator:\n",
    "            opestack.push(s)\n",
    "        elif s is ')':\n",
    "            innerval = ''\n",
    "            while(opestack.peek() != '('):\n",
    "                innerval = numstack.pop()+innerval\n",
    "                innerval = opestack.pop()+innerval\n",
    "            opestack.pop()\n",
    "            numstack.push(ineval_withoutparen(innerval))\n",
    "    \n",
    "    newexp = ''\n",
    "    while numstack.isEmpty() is False:\n",
    "        if opestack.isEmpty is False:\n",
    "            newexp = numstack.pop()+newexp\n",
    "            newexp = opestack.pop()+newexp\n",
    "        elif opestack.isEmpty is True:\n",
    "            newexp = numstack.pop()+newexp\n",
    "            \n",
    "    return ineval_withoutparen(newexp)"
   ]
  },
  {
   "cell_type": "markdown",
   "metadata": {
    "collapsed": true
   },
   "source": [
    "# Converting infix expression to prefix expression and evaluating"
   ]
  },
  {
   "cell_type": "code",
   "execution_count": null,
   "metadata": {
    "collapsed": true
   },
   "outputs": [],
   "source": [
    "def in2pre(arg):\n",
    "    prec = {}\n",
    "    prec['('] = 1\n",
    "    prec['+'], prec['-'] = 2\n",
    "    prec['*'], prec['/'] = 3\n",
    "    numstack = Stack()\n",
    "    opestack = Stack()\n",
    "    prestack = Stack()\n",
    "    operator = '+-*/()'\n",
    "    paren= '()'\n",
    "    num = '0123456789'\n",
    "    exp = ''\n",
    "    for s in arg:\n",
    "        prestack.push(s)\n",
    "    while not prestack.isEmpty():\n",
    "        s = prestack.pop()\n",
    "        if s in num:\n",
    "            exp = s + exp\n",
    "        elif s in ope:\n",
    "            if s is ')':\n",
    "                opestack.push(s)\n",
    "            elif s is '()':\n",
    "                while not opestack.isEmpty():\n",
    "                    if opestack.peek() is '(':\n",
    "                        opestack.pop()\n",
    "                        break\n",
    "                    else:\n",
    "                        exp = opestack.pop() + exp\n",
    "            else:\n",
    "                while prec[opestack.peek()] > prec[s]:\n",
    "                    opestack.push(s)\n",
    "    while not opestack.isEmpty():\n",
    "        exp = (opestack.pop())+exp\n",
    "    return exp    \n",
    "    "
   ]
  },
  {
   "cell_type": "code",
   "execution_count": null,
   "metadata": {
    "collapsed": true
   },
   "outputs": [],
   "source": [
    "print(in2pre('1+2*3'))"
   ]
  },
  {
   "cell_type": "markdown",
   "metadata": {},
   "source": [
    "After converting the infix expression to prefix expression, we evaluate the prefix expression."
   ]
  },
  {
   "cell_type": "code",
   "execution_count": null,
   "metadata": {
    "collapsed": true
   },
   "outputs": [],
   "source": [
    "def preeval(arg):\n",
    "    numstack = Stack()\n",
    "    expstack = Stack()\n",
    "    temp = 0\n",
    "    num = '0123456789'\n",
    "    for s in arg:\n",
    "        expstack.push(s)\n",
    "    while not expstack.isEmpty():\n",
    "        s = expstack.pop()\n",
    "        if s in num:\n",
    "            numstack.push(s)\n",
    "        elif s in '+-*/':\n",
    "            token = s\n",
    "            num_1 = numstack.pop()\n",
    "            num_2 = numstack.pop()\n",
    "            temp = doMath(token,num_2,num_1)\n",
    "            numstack.push(temp)\n",
    "    return numstack.pop()"
   ]
  }
 ],
 "metadata": {
  "kernelspec": {
   "display_name": "Python 3",
   "language": "python",
   "name": "python3"
  },
  "language_info": {
   "codemirror_mode": {
    "name": "ipython",
    "version": 3
   },
   "file_extension": ".py",
   "mimetype": "text/x-python",
   "name": "python",
   "nbconvert_exporter": "python",
   "pygments_lexer": "ipython3",
   "version": "3.6.0"
  }
 },
 "nbformat": 4,
 "nbformat_minor": 2
}
