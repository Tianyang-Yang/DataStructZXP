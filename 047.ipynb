{
 "cells": [
  {
   "cell_type": "markdown",
   "metadata": {},
   "source": [
    "# Evaluating Infix Expression \n",
    "The following is a function that evaluates an infix expression:"
   ]
  },
  {
   "cell_type": "code",
   "execution_count": 6,
   "metadata": {},
   "outputs": [
    {
     "ename": "IndentationError",
     "evalue": "expected an indented block (<ipython-input-6-26bf8d4d8556>, line 20)",
     "output_type": "error",
     "traceback": [
      "\u001b[0;36m  File \u001b[0;32m\"<ipython-input-6-26bf8d4d8556>\"\u001b[0;36m, line \u001b[0;32m20\u001b[0m\n\u001b[0;31m    prec = {}\u001b[0m\n\u001b[0m       ^\u001b[0m\n\u001b[0;31mIndentationError\u001b[0m\u001b[0;31m:\u001b[0m expected an indented block\n"
     ]
    }
   ],
   "source": [
    "class Stack:\n",
    "    def __init__(self):\n",
    "        self.items = []\n",
    "    def isEmpty(self):\n",
    "        return self.items == []\n",
    "    def push(self,item):\n",
    "        self.items.append(item)\n",
    "    def pop(self):\n",
    "        return self.items.pop()\n",
    "    def peek(self):\n",
    "        return self.items[len(self.items)-1]\n",
    "    def size(self):\n",
    "        return len(self.items)\n",
    "\n",
    "             \n",
    "\n",
    "def inevaluate(arg):\n",
    "    \n",
    "    def ineval_withoutparen(arg):\n",
    "    prec = {}\n",
    "    prec['*'],prec['/'] = 3,3\n",
    "    prec['+'],prec['-'] = 2,2\n",
    "    prec['('] = 1\n",
    "    numstack = Stack() # this is the operand stack \n",
    "    opestack = Stack() # this is the operator and parentheses stack\n",
    "    operator = ['+','-','*','/' ]\n",
    "    temp1, temp2 = 0, 0\n",
    "    for s in arg:\n",
    "        if s not in operator:\n",
    "            numstack.push(s)\n",
    "        elif s in operator:\n",
    "            if opestack.isEmpty():\n",
    "                opestack.push(s)\n",
    "            elif prec[opestack.peek()]>prec[s] :\n",
    "                opestack.push(s)\n",
    "            else:\n",
    "                while prec(opestack.peep)<= prec[s]:\n",
    "                    temp2 = numstack.pop()\n",
    "                    temp1 = numstack.pop()\n",
    "                    token = opestack.pop()\n",
    "                    numstack.push(doMath(token,temp2,temp1))\n",
    "                    \n",
    "    return numstack.peep()\n",
    "    \n",
    "    numstack = Stack() # this is the operand stack \n",
    "    opestack = Stack() # this is the operator and parentheses stack\n",
    "    prec = { }\n",
    "    prec[\"*\"],prec[\"/\"] = 3,3\n",
    "    prec[\"+\"],prec[\"-\"] = 2,2\n",
    "    prec[\"(\"] = 1\n",
    "    operator = ['+','-','*','/' ]\n",
    "    paren= ['(',')']\n",
    "    temp1, temp2 = 0, 0\n",
    "    parennum = 0\n",
    "    \n",
    "    for i,s in enumrate(arg):\n",
    "        if (s not in operator ) and (s not in paren):\n",
    "            numstack.push(s)\n",
    "        elif s == '(':\n",
    "            opestack.push(s)\n",
    "            parennum =parennum +1\n",
    "        elif s in operator:\n",
    "            opestack.push(s)\n",
    "        elif s == ')':\n",
    "            innerval = ''\n",
    "            while(opestack.peek() != '('):\n",
    "                innerval = numstack.pop()+innerval\n",
    "                innerval = opestack.pop()+innerval\n",
    "            opestack.pop()\n",
    "            numstack.push(ineval_withoutparen(innerval))\n",
    "    \n",
    "    newexp = ''\n",
    "    while(numstack,isEmpty() == False):\n",
    "        if opestack.isEmpty == False:\n",
    "            newexp = numstack.pop()+newexp\n",
    "            newexp = opestack.pop()+newexp\n",
    "        elif opestack.isEmpty == True:\n",
    "            newexp = numstack.pop()+newexp\n",
    "            \n",
    "    return ineval_withoutparen(newexp)\n",
    "        \n",
    "            \n",
    "                \n",
    "            "
   ]
  }
 ],
 "metadata": {
  "kernelspec": {
   "display_name": "Python 3",
   "language": "python",
   "name": "python3"
  },
  "language_info": {
   "codemirror_mode": {
    "name": "ipython",
    "version": 3
   },
   "file_extension": ".py",
   "mimetype": "text/x-python",
   "name": "python",
   "nbconvert_exporter": "python",
   "pygments_lexer": "ipython3",
   "version": "3.6.0"
  }
 },
 "nbformat": 4,
 "nbformat_minor": 2
}
