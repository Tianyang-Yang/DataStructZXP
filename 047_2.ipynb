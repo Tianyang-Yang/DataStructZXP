{
 "cells": [
  {
   "cell_type": "markdown",
   "metadata": {},
   "source": [
    "#  Using Python to create a \"List\"( \"lianbiao\" in Chinese)"
   ]
  },
  {
   "cell_type": "markdown",
   "metadata": {},
   "source": [
    "We first create a node class, \"LNode\", which is the basic element of a \"List\". \"Lsit\", i.e., the class \"LList\", is constructed natrually by the relation among a set of nodes."
   ]
  },
  {
   "cell_type": "code",
   "execution_count": 2,
   "metadata": {
    "collapsed": true
   },
   "outputs": [],
   "source": [
    "class LNode:\n",
    "    def __init__(self,elem,nextnode=None):\n",
    "        self.elem = elem\n",
    "        self.nextnode = nextnode\n",
    "    \n"
   ]
  },
  {
   "cell_type": "markdown",
   "metadata": {},
   "source": [
    "The class \"LList\" should cover the basic functions of a list: initializing, adding, deleting, e.t.c. \n",
    "\n",
    "Following is the definition of class \"LList\":\n",
    "\n",
    "    the prepend funtion add the new node at the starting location;\n",
    "    \n",
    "    the pop function pop the head node;\n",
    "    \n",
    "    the append function add a new node at the end of the List;\n",
    "    \n",
    "    the popLast function delete and return the last node of the List.\n",
    "    "
   ]
  },
  {
   "cell_type": "code",
   "execution_count": 4,
   "metadata": {
    "collapsed": true
   },
   "outputs": [],
   "source": [
    "class LList:\n",
    "    def __init__(self):\n",
    "        self._head = None\n",
    "        self._length = 0\n",
    "    \n",
    "    def isEmpty(self):\n",
    "        return self._head is None\n",
    "    \n",
    "    def prepend(self, elem):\n",
    "        self._head = LNode(elem,self._head)\n",
    "        self._length +=1\n",
    "        \n",
    "    def pop(self):\n",
    "        if self._head is None:\n",
    "            raise LinkedListUnderflow(\"in pop\")\n",
    "        e = self._head.elem\n",
    "        self._head = self._head.nextnode\n",
    "        self._length -=1\n",
    "        return e\n",
    "    \n",
    "    def length(self):\n",
    "        return self._length\n",
    "    \n",
    "    def append(self,elem):\n",
    "        if self._head is None:\n",
    "            self._head = LNode(elem)  \n",
    "        p = self._head\n",
    "        while p.nextnode is not None:\n",
    "            p = p.nextnode\n",
    "        p.nextnode = LNode(elem)\n",
    "    \n",
    "    def popLast(self):\n",
    "        if self._head is None:\n",
    "            raise LinkedListUnderflow(\"in popLast\")\n",
    "        p = self._head\n",
    "        if p.nextnode is None:\n",
    "            self._head = None\n",
    "            return p.elem\n",
    "        while p.nextnode.nextnode is not None:\n",
    "            p = p.nextnode\n",
    "        e = p.nextnode.elem\n",
    "        p.nextnode = None\n",
    "        return e\n",
    "    "
   ]
  },
  {
   "cell_type": "markdown",
   "metadata": {},
   "source": [
    "So far we complete a simple List class definition."
   ]
  },
  {
   "cell_type": "markdown",
   "metadata": {},
   "source": [
    "# Stack derived from LList"
   ]
  },
  {
   "cell_type": "code",
   "execution_count": null,
   "metadata": {
    "collapsed": true
   },
   "outputs": [],
   "source": []
  }
 ],
 "metadata": {
  "kernelspec": {
   "display_name": "Python 3",
   "language": "python",
   "name": "python3"
  },
  "language_info": {
   "codemirror_mode": {
    "name": "ipython",
    "version": 3
   },
   "file_extension": ".py",
   "mimetype": "text/x-python",
   "name": "python",
   "nbconvert_exporter": "python",
   "pygments_lexer": "ipython3",
   "version": "3.6.0"
  }
 },
 "nbformat": 4,
 "nbformat_minor": 2
}
