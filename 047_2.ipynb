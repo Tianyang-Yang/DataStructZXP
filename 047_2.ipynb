{
 "cells": [
  {
   "cell_type": "markdown",
   "metadata": {},
   "source": [
    "#  Using Python to create a \"List\"( \"lianbiao\" in Chinese)"
   ]
  },
  {
   "cell_type": "markdown",
   "metadata": {},
   "source": [
    "We first create a node class, \"LNode\", which is the basic element of a \"List\". \"Lsit\", i.e., the class \"LList\", is constructed natrually by the relation among a set of nodes."
   ]
  },
  {
   "cell_type": "code",
   "execution_count": 4,
   "metadata": {
    "collapsed": true
   },
   "outputs": [],
   "source": [
    "class LNode:\n",
    "    def __init__(self,elem,next_=None):\n",
    "        self.elem = elem\n",
    "        self.nextnode = next_\n",
    "    \n"
   ]
  },
  {
   "cell_type": "markdown",
   "metadata": {},
   "source": [
    "The class \"LList\" should cover the basic functions of a list: initializing, adding, deleting, e.t.c. \n",
    "\n",
    "Following is the definition of class \"LList\":\n",
    "\n",
    "    (the prepend funtion add the new node at the starting location;\n",
    "    \n",
    "     the pop function pop the head node;\n",
    "    \n",
    "     the append function add a new node at the end of the List;\n",
    "    \n",
    "     the popLast function delete and return the last node of the List.)\n",
    "    "
   ]
  },
  {
   "cell_type": "code",
   "execution_count": 5,
   "metadata": {
    "collapsed": true
   },
   "outputs": [],
   "source": [
    "class LList:\n",
    "    def __init__(self):\n",
    "        self._head = None\n",
    "        self._length = 0\n",
    "    \n",
    "    def isEmpty(self):\n",
    "        return self._head is None\n",
    "    \n",
    "    def prepend(self, elem):\n",
    "        self._head = LNode(elem,self._head)\n",
    "        self._length +=1\n",
    "        \n",
    "    def pop(self):\n",
    "        if self._head is None:\n",
    "            raise LinkedListUnderflow(\"in pop\")\n",
    "        e = self._head.elem\n",
    "        self._head = self._head.next\n",
    "        self._length -=1\n",
    "        return e\n",
    "    \n",
    "    def length(self):\n",
    "        return self._length\n",
    "    \n",
    "    def append(self,elem):\n",
    "        if self._head is None:\n",
    "            self._head = LNode(elem)  \n",
    "        p = self._head\n",
    "        while p.next is not None:\n",
    "            p = p.next\n",
    "        p.next = LNode(elem)\n",
    "    \n",
    "    def popLast(self):\n",
    "        if self._head is None:\n",
    "            raise LinkedListUnderflow(\"in popLast\")\n",
    "        p = self._head\n",
    "        if p.next is None:\n",
    "            self._head = None\n",
    "            return p.elem\n",
    "        while p.next.next is not None:\n",
    "            p = p.next\n",
    "        e = p.next.elem\n",
    "        p.next = None\n",
    "        return e\n",
    "    "
   ]
  },
  {
   "cell_type": "markdown",
   "metadata": {},
   "source": [
    "So far we complete a simple List class definition."
   ]
  },
  {
   "cell_type": "markdown",
   "metadata": {},
   "source": [
    "# Stack derived from LList"
   ]
  },
  {
   "cell_type": "markdown",
   "metadata": {
    "collapsed": true
   },
   "source": [
    "When creating a Stack class from LList, since what we know directly about the LList is the head, we natrually use the head of the LList as the top of the stack."
   ]
  },
  {
   "cell_type": "code",
   "execution_count": 10,
   "metadata": {},
   "outputs": [],
   "source": [
    "class Lstack:\n",
    "    def __init__(self):\n",
    "        self._top = None\n",
    "    \n",
    "    def isEmpty(self):\n",
    "        return self._top is None\n",
    "    \n",
    "    def top(self):\n",
    "        if self._top is None:\n",
    "            raise StackUnderflow(\"in LStack._top()\")\n",
    "        return self._top.elem\n",
    "    \n",
    "    def push(self,elem):\n",
    "        self._top = LNode(elem,self._top)\n",
    "        \n",
    "    def pop(self):\n",
    "        if self._top is None:\n",
    "            raise StackUnderflow(\"in LStack pop()\")\n",
    "        e = self._top\n",
    "        self._top = p.next\n",
    "        return e.elem\n"
   ]
  },
  {
   "cell_type": "markdown",
   "metadata": {},
   "source": [
    "# Queue derived from LList"
   ]
  },
  {
   "cell_type": "markdown",
   "metadata": {},
   "source": [
    "Before doing that, we have to create a new, more comprehensive class of list, cosnidering the operation on queue requires us to manipulate what pushed into the LList the first.\n",
    "\n",
    "In order for that, we create a subclass called DLList (means \"dual\" LLsit), wwhich allowing manipulating the last of the LLsit."
   ]
  },
  {
   "cell_type": "code",
   "execution_count": 12,
   "metadata": {},
   "outputs": [],
   "source": [
    "class DLNode(LNode):\n",
    "    def __init__(self,elem,prev = None, next_=None):\n",
    "        LNode.__init__(self,elem,next_)\n",
    "        self.prev = prev\n",
    "        \n",
    "class DLList(LList):\n",
    "    def __init__(self):\n",
    "        LList.__init__(self)\n",
    "    \n",
    "    def prepend(self,elem):\n",
    "        p = DLNode(elem,None,self._head)\n",
    "        if self._head is None:\n",
    "            self._last = p\n",
    "        else:\n",
    "            p.next.prev = p\n",
    "        self._head = p\n",
    "    \n",
    "    def append(self,elem):\n",
    "        p = DLNode(elem,self.last,None)\n",
    "        if self._head is None:\n",
    "            self._head = p\n",
    "        else:\n",
    "            p.prev.next = p\n",
    "        self._last = p\n",
    "    \n",
    "    def pop(self):\n",
    "        if self._head is None:\n",
    "            raise LinkedinListUnderflow(\"in DLList pop()\")\n",
    "        e = self._head\n",
    "        self._head.next.prev = None\n",
    "        self._head = self._head.next\n",
    "        return e\n",
    "    \n",
    "    def popLast(self):\n",
    "        if self._head is None:\n",
    "            raise LinkedinListUnderflow(\"in DLList popLast()\")\n",
    "        e = self._last\n",
    "        if self._last.prev is None:\n",
    "            self.head = None\n",
    "        else: \n",
    "            self.last.prev.next = None\n",
    "            self._last =self._last.prev\n",
    "        return e\n",
    "    "
   ]
  },
  {
   "cell_type": "markdown",
   "metadata": {},
   "source": [
    "Using this DLList class we construct a queue class as following:\n"
   ]
  },
  {
   "cell_type": "code",
   "execution_count": null,
   "metadata": {
    "collapsed": true
   },
   "outputs": [],
   "source": [
    "class LQueue:\n",
    "    def __init__(self):\n",
    "        self._head = None\n",
    "    \n",
    "    def isEmpty(self):\n",
    "        return self._head is None\n",
    "    \n",
    "    def enqueue(self,elem):\n",
    "        e = DLNode(elem,None,None)\n",
    "        if self._head is None:\n",
    "            self._head = e\n",
    "        else:\n",
    "            e.prev = self._last\n",
    "            "
   ]
  }
 ],
 "metadata": {
  "kernelspec": {
   "display_name": "Python 3",
   "language": "python",
   "name": "python3"
  },
  "language_info": {
   "codemirror_mode": {
    "name": "ipython",
    "version": 3
   },
   "file_extension": ".py",
   "mimetype": "text/x-python",
   "name": "python",
   "nbconvert_exporter": "python",
   "pygments_lexer": "ipython3",
   "version": "3.6.0"
  }
 },
 "nbformat": 4,
 "nbformat_minor": 2
}
